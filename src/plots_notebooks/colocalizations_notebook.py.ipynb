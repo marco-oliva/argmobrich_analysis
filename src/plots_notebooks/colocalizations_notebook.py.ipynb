{
 "cells": [
  {
   "cell_type": "code",
   "execution_count": 11,
   "metadata": {},
   "outputs": [],
   "source": [
    "import csv\n",
    "import json"
   ]
  },
  {
   "cell_type": "code",
   "execution_count": null,
   "outputs": [],
   "source": [
    "import seaborn as sns\n",
    "import csv\n",
    "from matplotlib import pyplot as plt\n",
    "from matplotlib.patches import Rectangle"
   ],
   "metadata": {
    "collapsed": false,
    "pycharm": {
     "name": "#%%\n"
    }
   }
  },
  {
   "cell_type": "code",
   "execution_count": null,
   "outputs": [],
   "source": [
    "def read_megares_v2_ontology(config):\n",
    "    # Create ontology dictionary from MEGARes ontology file\n",
    "    megares_ontology = dict()\n",
    "    hierarchy_dict = dict()\n",
    "    with open(config['DATABASE']['MEGARES_ONTOLOGY'], 'r') as ontology_tsv:\n",
    "        ontology_reader = csv.reader(ontology_tsv)\n",
    "        for row in ontology_reader:\n",
    "            # Skip column names\n",
    "            if row[0] == \"header\":\n",
    "                continue\n",
    "\n",
    "            typ = row[1]\n",
    "            cl = row[2]\n",
    "            mech = row[3]\n",
    "            group = row[4]\n",
    "\n",
    "            # Set up hiearachy dict. This will be our tree structure\n",
    "            if not typ in hierarchy_dict:\n",
    "                hierarchy_dict[typ] = {}\n",
    "\n",
    "            if not cl in hierarchy_dict[typ]:\n",
    "                hierarchy_dict[typ][cl] = {}\n",
    "\n",
    "            if not mech in hierarchy_dict[typ][cl]:\n",
    "                hierarchy_dict[typ][cl][mech] = []\n",
    "\n",
    "            if not group in hierarchy_dict[typ][cl][mech]:\n",
    "                hierarchy_dict[typ][cl][mech].append(group)\n",
    "\n",
    "            # FIll in our dict\n",
    "            megares_ontology[row[0]] = {\"class\": cl,\n",
    "                                        \"mechanism\": mech,\n",
    "                                        \"group\": group,\n",
    "                                        \"type\": typ\n",
    "                                        }\n",
    "    return megares_ontology, hierarchy_dict"
   ],
   "metadata": {
    "collapsed": false,
    "pycharm": {
     "name": "#%%\n"
    }
   }
  },
  {
   "cell_type": "code",
   "execution_count": 4,
   "metadata": {},
   "outputs": [],
   "source": [
    "# Get info from snakemake\n",
    "config = snakemake.params[0]\n",
    "config['DATABASE']['MEGARES'] = snakemake.input[0]\n",
    "config['DATABASE']['MEGARES_ONTOLOGY'] = snakemake.input[1]\n",
    "reads_lengths = snakemake.input[4]\n",
    "colocalizations = snakemake.input[5]\n",
    "output_plot = snakemake.output[0]\n",
    "max_length = config[\"MISC\"][\"MAX_BP_COLOCALIZATIONS_PLOT\"]"
   ]
  },
  {
   "cell_type": "code",
   "execution_count": 14,
   "metadata": {},
   "outputs": [],
   "source": [
    "# Get read lengths\n",
    "with open(reads_lengths, 'r') as json_file:\n",
    "    reads_lengths = json.load(json_file)"
   ]
  },
  {
   "cell_type": "code",
   "execution_count": 65,
   "metadata": {
    "pycharm": {
     "name": "#%%\n"
    }
   },
   "outputs": [],
   "source": [
    "ARG_COLOR  = 'red'\n",
    "MGE_COLOR  = 'green'\n",
    "KEGG_COLOR = 'orange'\n",
    "READ_COLOR = 'blue'\n",
    "coloc_lists = dict()\n",
    "\n",
    "megares_ontology, _ = read_megares_v2_ontology(config)\n",
    "\n",
    "colocalizations_list = list()\n",
    "with open(colocalizations, 'rt') as csvfile:\n",
    "    csv_reader = csv.reader(csvfile)\n",
    "    header = next(csv_reader)\n",
    "    for row in csv_reader:\n",
    "        colocalizations_list.append(row)\n",
    "\n",
    "\n",
    "used_reads_lengths = list()\n",
    "padding = 3\n",
    "height = 2\n",
    "curr_y = 1 + padding\n",
    "plt.figure(figsize=(16, 3*(len(colocalizations_list)/7)))\n",
    "currentAxis = plt.gca()\n",
    "for row in colocalizations_list:\n",
    "    read_name = row[0]\n",
    "    read_length = reads_lengths[read_name]\n",
    "    used_reads_lengths.append(read_length)\n",
    "    read_r = Rectangle((0, curr_y), read_length, height, facecolor='blue', alpha=0.8, edgecolor='black', label='Read')\n",
    "    currentAxis.add_patch(read_r)\n",
    "\n",
    "    # Get ARGs, MGEs, KEGGs\n",
    "    args = zip(row[1].split(';'), row[2].split(';'))\n",
    "    mges = zip(row[3].split(';'), row[4].split(';'))\n",
    "    keggs = zip(row[5].split(';'), row[6].split(';'))\n",
    "\n",
    "    # Add ARGs to plot\n",
    "    for arg_gene, arg_position in args:\n",
    "        length = int(arg_position.split(':')[1]) - int(arg_position.split(':')[0])\n",
    "        start = int(arg_position.split(':')[0])\n",
    "        color = ARG_COLOR\n",
    "        label = 'ARG'\n",
    "        gene_label = megares_ontology[arg_gene][\"class\"]\n",
    "        element_r = Rectangle((start, curr_y), length, height, facecolor=color, alpha=0.8, edgecolor='black',label=label)\n",
    "        currentAxis.add_patch(element_r)\n",
    "\n",
    "        rx, ry = element_r.get_xy()\n",
    "        cx = rx + element_r.get_width() / 2.0\n",
    "        cy = ry + element_r.get_height() / 2.0\n",
    "        currentAxis.annotate(gene_label, (cx, cy - (height / 2 + 1)), color='black', fontsize=8, ha='center',va='center')\n",
    "\n",
    "    # Add MGEs to plot\n",
    "    for mge_gene, mge_position in mges:\n",
    "        length = int(arg_position.split(':')[1]) - int(arg_position.split(':')[0])\n",
    "        start = int(arg_position.split(':')[0])\n",
    "        color = MGE_COLOR\n",
    "        label = 'MGE'\n",
    "        gene_label = mge_gene\n",
    "        element_r = Rectangle((start, curr_y), length, height, facecolor=color, alpha=0.8, edgecolor='black',label=label)\n",
    "        currentAxis.add_patch(element_r)\n",
    "\n",
    "        rx, ry = element_r.get_xy()\n",
    "        cx = rx + element_r.get_width() / 2.0\n",
    "        cy = ry + element_r.get_height() / 2.0\n",
    "        currentAxis.annotate(gene_label, (cx, cy - (height / 2 + 1)), color='black', fontsize=8, ha='center',va='center')\n",
    "\n",
    "    # Add KEGGs to plot\n",
    "    for kegg_gene, kegg_position in keggs:\n",
    "        length = int(arg_position.split(':')[1]) - int(arg_position.split(':')[0])\n",
    "        start = int(arg_position.split(':')[0])\n",
    "        color = KEGG_COLOR\n",
    "        label = 'KEGG'\n",
    "        gene_label = kegg_gene\n",
    "        element_r = Rectangle((start, curr_y), length, height, facecolor=color, alpha=0.8, edgecolor='black',label=label)\n",
    "        currentAxis.add_patch(element_r)\n",
    "\n",
    "        rx, ry = element_r.get_xy()\n",
    "        cx = rx + element_r.get_width() / 2.0\n",
    "        cy = ry + element_r.get_height() / 2.0\n",
    "        currentAxis.annotate(gene_label, (cx, cy - (height / 2 + 1)), color='black', fontsize=8, ha='center',va='center')\n",
    "\n",
    "    curr_y += height + padding\n",
    "\n",
    "\n",
    "sns.despine(top=True, right=True, left=True, bottom=False)\n",
    "plt.tick_params(axis='y', which='both', left=False, right=False, labelleft=False)\n",
    "plt.xlim([0, max(used_reads_lengths)])\n",
    "plt.ylim([0, curr_y])\n",
    "# plt.grid(axis='x', color='0.95')\n",
    "plt.xlabel('Read')\n",
    "\n",
    "# remove duplicates from legends\n",
    "handles, labels = currentAxis.get_legend_handles_labels()\n",
    "newLabels, newHandles = [], []\n",
    "for handle, label in zip(handles, labels):\n",
    "    if label not in newLabels:\n",
    "        newLabels.append(label)\n",
    "        newHandles.append(handle)\n",
    "\n",
    "plt.legend(newHandles, newLabels)\n",
    "plt.savefig(output_plot)\n",
    "plt.show()"
   ]
  }
 ],
 "metadata": {
  "kernelspec": {
   "display_name": "UFRC Python-3.8",
   "language": "python",
   "name": "python3-3.8-ufrc"
  },
  "language_info": {
   "codemirror_mode": {
    "name": "ipython",
    "version": 3
   },
   "file_extension": ".py",
   "mimetype": "text/x-python",
   "name": "python",
   "nbconvert_exporter": "python",
   "pygments_lexer": "ipython3",
   "version": "3.8.5"
  }
 },
 "nbformat": 4,
 "nbformat_minor": 4
}